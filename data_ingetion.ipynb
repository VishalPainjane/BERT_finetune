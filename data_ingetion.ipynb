{
 "cells": [
  {
   "cell_type": "code",
   "execution_count": null,
   "id": "bec0126e",
   "metadata": {},
   "outputs": [],
   "source": []
  },
  {
   "cell_type": "code",
   "execution_count": 4,
   "id": "a60c8f9a",
   "metadata": {},
   "outputs": [],
   "source": [
    "from datasets import load_dataset\n",
    "squad = load_dataset(\"squad\", split=\"train[:5000]\")\n",
    "squad = squad.train_test_split(test_size=0.2)"
   ]
  },
  {
   "cell_type": "code",
   "execution_count": 8,
   "id": "46ec93f2",
   "metadata": {},
   "outputs": [
    {
     "data": {
      "text/plain": [
       "DatasetDict({\n",
       "    train: Dataset({\n",
       "        features: ['id', 'title', 'context', 'question', 'answers'],\n",
       "        num_rows: 4000\n",
       "    })\n",
       "    test: Dataset({\n",
       "        features: ['id', 'title', 'context', 'question', 'answers'],\n",
       "        num_rows: 1000\n",
       "    })\n",
       "})"
      ]
     },
     "execution_count": 8,
     "metadata": {},
     "output_type": "execute_result"
    }
   ],
   "source": [
    "squad\n"
   ]
  },
  {
   "cell_type": "code",
   "execution_count": 5,
   "id": "f5f293c0",
   "metadata": {},
   "outputs": [
    {
     "data": {
      "text/html": [
       "<div>\n",
       "<style scoped>\n",
       "    .dataframe tbody tr th:only-of-type {\n",
       "        vertical-align: middle;\n",
       "    }\n",
       "\n",
       "    .dataframe tbody tr th {\n",
       "        vertical-align: top;\n",
       "    }\n",
       "\n",
       "    .dataframe thead th {\n",
       "        text-align: right;\n",
       "    }\n",
       "</style>\n",
       "<table border=\"1\" class=\"dataframe\">\n",
       "  <thead>\n",
       "    <tr style=\"text-align: right;\">\n",
       "      <th></th>\n",
       "      <th>id</th>\n",
       "      <th>title</th>\n",
       "      <th>context</th>\n",
       "      <th>question</th>\n",
       "      <th>answers</th>\n",
       "    </tr>\n",
       "  </thead>\n",
       "  <tbody>\n",
       "    <tr>\n",
       "      <th>0</th>\n",
       "      <td>56ce4b8baab44d1400b8867b</td>\n",
       "      <td>Sino-Tibetan_relations_during_the_Ming_dynasty</td>\n",
       "      <td>When an ally of the Ü-Tsang ruler threatened d...</td>\n",
       "      <td>What role did Güshi Khan take on?</td>\n",
       "      <td>{'text': ['protector'], 'answer_start': [309]}</td>\n",
       "    </tr>\n",
       "    <tr>\n",
       "      <th>1</th>\n",
       "      <td>56d34ffe59d6e414001462bc</td>\n",
       "      <td>Frédéric_Chopin</td>\n",
       "      <td>During the summers at Nohant, particularly in ...</td>\n",
       "      <td>What two things did Chopin advise Viardot on?</td>\n",
       "      <td>{'text': ['piano technique and composition.'],...</td>\n",
       "    </tr>\n",
       "    <tr>\n",
       "      <th>2</th>\n",
       "      <td>56d4c0452ccc5a1400d831c8</td>\n",
       "      <td>Beyoncé</td>\n",
       "      <td>Beyoncé further expanded her acting career, st...</td>\n",
       "      <td>Which singer did Beyoncé portray in Cadillac R...</td>\n",
       "      <td>{'text': ['Etta James'], 'answer_start': [69]}</td>\n",
       "    </tr>\n",
       "    <tr>\n",
       "      <th>3</th>\n",
       "      <td>573398ebd058e614000b5e66</td>\n",
       "      <td>University_of_Notre_Dame</td>\n",
       "      <td>A Science Hall was built in 1883 under the dir...</td>\n",
       "      <td>Which person oversaw the creation of a science...</td>\n",
       "      <td>{'text': ['Fr. Zahm'], 'answer_start': [56]}</td>\n",
       "    </tr>\n",
       "    <tr>\n",
       "      <th>4</th>\n",
       "      <td>56cbff116d243a140015ee49</td>\n",
       "      <td>Frédéric_Chopin</td>\n",
       "      <td>The two became friends, and for many years liv...</td>\n",
       "      <td>For whose benefit was the first of these conce...</td>\n",
       "      <td>{'text': ['Harriet Smithson'], 'answer_start':...</td>\n",
       "    </tr>\n",
       "  </tbody>\n",
       "</table>\n",
       "</div>"
      ],
      "text/plain": [
       "                         id                                           title  \\\n",
       "0  56ce4b8baab44d1400b8867b  Sino-Tibetan_relations_during_the_Ming_dynasty   \n",
       "1  56d34ffe59d6e414001462bc                                 Frédéric_Chopin   \n",
       "2  56d4c0452ccc5a1400d831c8                                         Beyoncé   \n",
       "3  573398ebd058e614000b5e66                        University_of_Notre_Dame   \n",
       "4  56cbff116d243a140015ee49                                 Frédéric_Chopin   \n",
       "\n",
       "                                             context  \\\n",
       "0  When an ally of the Ü-Tsang ruler threatened d...   \n",
       "1  During the summers at Nohant, particularly in ...   \n",
       "2  Beyoncé further expanded her acting career, st...   \n",
       "3  A Science Hall was built in 1883 under the dir...   \n",
       "4  The two became friends, and for many years liv...   \n",
       "\n",
       "                                            question  \\\n",
       "0                  What role did Güshi Khan take on?   \n",
       "1      What two things did Chopin advise Viardot on?   \n",
       "2  Which singer did Beyoncé portray in Cadillac R...   \n",
       "3  Which person oversaw the creation of a science...   \n",
       "4  For whose benefit was the first of these conce...   \n",
       "\n",
       "                                             answers  \n",
       "0     {'text': ['protector'], 'answer_start': [309]}  \n",
       "1  {'text': ['piano technique and composition.'],...  \n",
       "2     {'text': ['Etta James'], 'answer_start': [69]}  \n",
       "3       {'text': ['Fr. Zahm'], 'answer_start': [56]}  \n",
       "4  {'text': ['Harriet Smithson'], 'answer_start':...  "
      ]
     },
     "execution_count": 5,
     "metadata": {},
     "output_type": "execute_result"
    }
   ],
   "source": [
    "import pandas as pd\n",
    "data_dict = squad[\"train\"].to_dict()\n",
    "df = pd.DataFrame.from_dict(data_dict)\n",
    "df.head()\n"
   ]
  },
  {
   "cell_type": "code",
   "execution_count": 8,
   "id": "2edcdd61",
   "metadata": {},
   "outputs": [],
   "source": [
    "df.to_csv('data/squad_data.csv', index=False)"
   ]
  },
  {
   "cell_type": "code",
   "execution_count": 14,
   "id": "9ab537aa",
   "metadata": {},
   "outputs": [],
   "source": [
    "from transformers import AutoTokenizer\n",
    "tokenizer = AutoTokenizer.from_pretrained(\"distilbert-base-uncased\")\n",
    "\n",
    "questions = [q.strip() for q in df[\"question\"]]\n",
    "context = [q.strip() for q in df[\"context\"]]\n",
    "\n",
    "inputs = tokenizer(questions, context, max_length=384, truncation=\"only_second\", padding=\"max_length\", return_offsets_mapping=True)\n",
    "\n",
    "offset_mapping = inputs.pop(\"offset_mapping\")\n",
    "\n",
    "start_positions = []\n",
    "end_positions = []\n",
    "\n",
    "answers = df[\"answers\"]\n",
    "\n",
    "for i, offset in enumerate(offset_mapping):\n",
    "    answer = answers[i]\n",
    "\n",
    "    start_char = answer[\"answer_start\"][0]\n",
    "    end_char = answer[\"answer_start\"][0] + len(answer['text'][0])\n",
    "    sequence_ids = inputs.sequence_ids(i)\n",
    "\n",
    "    idx = 0\n",
    "    while sequence_ids[idx] != 1:\n",
    "        idx+=1\n",
    "    context_start = idx\n",
    "    while sequence_ids[idx] == 1:\n",
    "        idx+=1\n",
    "    context_end = idx-1\n",
    "    \n",
    "    if offset[context_start][0] > end_char or offset[context_end][1] < start_char:\n",
    "        start_positions.append(0)\n",
    "        end_positions.append(0)\n",
    "    else:\n",
    "        idx = context_start\n",
    "        while idx <= context_end and offset[idx][0] <= start_char:\n",
    "            idx += 1\n",
    "        start_positions.append(idx)\n",
    "        \n",
    "        idx = context_end\n",
    "        while idx >= context_start and offset[idx][1] >= end_char:\n",
    "            idx -= 1\n",
    "        end_positions.append(idx)\n",
    "\n",
    "df['start_position'] = start_positions\n",
    "df['end_position'] = end_positions"
   ]
  },
  {
   "cell_type": "code",
   "execution_count": null,
   "id": "bd655448",
   "metadata": {},
   "outputs": [],
   "source": [
    "data={'input_ids':inputs['input_ids'], \n",
    "      'attention_mask':inputs['attention_mask'], \n",
    "      'start_positions':start_positions, \n",
    "      'end_positions':end_positions}\n",
    "\n",
    "df = pd.DataFrame(data)\n",
    "df.to_csv('data/encoding_train.csv', index = False)\n"
   ]
  }
 ],
 "metadata": {
  "kernelspec": {
   "display_name": ".venv",
   "language": "python",
   "name": "python3"
  },
  "language_info": {
   "codemirror_mode": {
    "name": "ipython",
    "version": 3
   },
   "file_extension": ".py",
   "mimetype": "text/x-python",
   "name": "python",
   "nbconvert_exporter": "python",
   "pygments_lexer": "ipython3",
   "version": "3.12.0"
  }
 },
 "nbformat": 4,
 "nbformat_minor": 5
}
